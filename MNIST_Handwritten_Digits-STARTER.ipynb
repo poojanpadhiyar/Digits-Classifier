{
 "cells": [
  {
   "cell_type": "markdown",
   "metadata": {},
   "source": [
    "# Introduction\n",
    "\n",
    "In this project, you will build a neural network of your own design to evaluate the MNIST dataset.\n",
    "\n",
    "Some of the benchmark results on MNIST include can be found [on Yann LeCun's page](https://webcache.googleusercontent.com/search?q=cache:stAVPik6onEJ:yann.lecun.com/exdb/mnist) and include:\n",
    "\n",
    "88% [Lecun et al., 1998](https://hal.science/hal-03926082/document)\n",
    "\n",
    "95.3% [Lecun et al., 1998](https://hal.science/hal-03926082v1/document)\n",
    "\n",
    "99.65% [Ciresan et al., 2011](http://people.idsia.ch/~juergen/ijcai2011.pdf)\n",
    "\n",
    "\n",
    "MNIST is a great dataset for sanity checking your models, since the accuracy levels achieved by large convolutional neural networks and small linear models are both quite high. This makes it important to be familiar with the data.\n",
    "\n",
    "## Installation"
   ]
  },
  {
   "cell_type": "code",
   "execution_count": 1,
   "metadata": {},
   "outputs": [],
   "source": [
    "# Update the PATH to include the user installation directory. \n",
    "import os\n",
    "os.environ['PATH'] = f\"{os.environ['PATH']}:/root/.local/bin\"\n",
    "\n",
    "# Restart the Kernel before you move on to the next step."
   ]
  },
  {
   "cell_type": "markdown",
   "metadata": {},
   "source": [
    "#### Important: Restart the Kernel before you move on to the next step."
   ]
  },
  {
   "cell_type": "code",
   "execution_count": 2,
   "metadata": {},
   "outputs": [
    {
     "name": "stdout",
     "output_type": "stream",
     "text": [
      "Defaulting to user installation because normal site-packages is not writeable\n",
      "Collecting opencv-python-headless==4.5.3.56 (from -r requirements.txt (line 1))\n",
      "  Downloading opencv-python-headless-4.5.3.56.tar.gz (89.2 MB)\n",
      "     ---------------------------------------- 0.0/89.2 MB ? eta -:--:--\n",
      "     ---------------------------------------- 0.8/89.2 MB 16.8 MB/s eta 0:00:06\n",
      "      --------------------------------------- 1.5/89.2 MB 16.2 MB/s eta 0:00:06\n",
      "     - -------------------------------------- 2.7/89.2 MB 21.5 MB/s eta 0:00:05\n",
      "     - -------------------------------------- 3.1/89.2 MB 20.1 MB/s eta 0:00:05\n",
      "     - -------------------------------------- 3.1/89.2 MB 20.1 MB/s eta 0:00:05\n",
      "     - -------------------------------------- 3.1/89.2 MB 20.1 MB/s eta 0:00:05\n",
      "     - -------------------------------------- 3.1/89.2 MB 20.1 MB/s eta 0:00:05\n",
      "     - -------------------------------------- 3.1/89.2 MB 20.1 MB/s eta 0:00:05\n",
      "     - -------------------------------------- 3.1/89.2 MB 20.1 MB/s eta 0:00:05\n",
      "     - -------------------------------------- 3.1/89.2 MB 20.1 MB/s eta 0:00:05\n",
      "     - -------------------------------------- 3.1/89.2 MB 20.1 MB/s eta 0:00:05\n",
      "     - -------------------------------------- 3.1/89.2 MB 20.1 MB/s eta 0:00:05\n",
      "     - -------------------------------------- 3.3/89.2 MB 5.3 MB/s eta 0:00:17\n",
      "     - -------------------------------------- 3.8/89.2 MB 5.9 MB/s eta 0:00:15\n",
      "     -- ------------------------------------- 4.6/89.2 MB 6.7 MB/s eta 0:00:13\n",
      "     -- ------------------------------------- 5.2/89.2 MB 7.3 MB/s eta 0:00:12\n",
      "     -- ------------------------------------- 5.2/89.2 MB 7.3 MB/s eta 0:00:12\n",
      "     -- ------------------------------------- 5.2/89.2 MB 7.3 MB/s eta 0:00:12\n",
      "     -- ------------------------------------- 5.2/89.2 MB 7.3 MB/s eta 0:00:12\n",
      "     -- ------------------------------------- 5.2/89.2 MB 7.3 MB/s eta 0:00:12\n",
      "     -- ------------------------------------- 5.6/89.2 MB 5.8 MB/s eta 0:00:15\n",
      "     -- ------------------------------------- 6.6/89.2 MB 6.4 MB/s eta 0:00:13\n",
      "     --- ------------------------------------ 7.5/89.2 MB 7.0 MB/s eta 0:00:12\n",
      "     --- ------------------------------------ 8.4/89.2 MB 7.6 MB/s eta 0:00:11\n",
      "     ---- ----------------------------------- 9.4/89.2 MB 8.1 MB/s eta 0:00:10\n",
      "     ---- ----------------------------------- 10.5/89.2 MB 8.6 MB/s eta 0:00:10\n",
      "     ----- ---------------------------------- 11.4/89.2 MB 8.7 MB/s eta 0:00:09\n",
      "     ----- ---------------------------------- 12.4/89.2 MB 8.6 MB/s eta 0:00:09\n",
      "     ----- --------------------------------- 13.4/89.2 MB 13.4 MB/s eta 0:00:06\n",
      "     ------ -------------------------------- 14.5/89.2 MB 14.2 MB/s eta 0:00:06\n",
      "     ------ -------------------------------- 15.2/89.2 MB 14.2 MB/s eta 0:00:06\n",
      "     ------ -------------------------------- 15.7/89.2 MB 19.9 MB/s eta 0:00:04\n",
      "     ------ -------------------------------- 16.0/89.2 MB 18.7 MB/s eta 0:00:04\n",
      "     ------- ------------------------------- 16.3/89.2 MB 17.7 MB/s eta 0:00:05\n",
      "     ------- ------------------------------- 16.6/89.2 MB 16.8 MB/s eta 0:00:05\n",
      "     ------- ------------------------------- 16.9/89.2 MB 16.0 MB/s eta 0:00:05\n",
      "     ------- ------------------------------- 17.2/89.2 MB 15.2 MB/s eta 0:00:05\n",
      "     ------- ------------------------------- 17.6/89.2 MB 14.6 MB/s eta 0:00:05\n",
      "     ------- ------------------------------- 17.8/89.2 MB 13.9 MB/s eta 0:00:06\n",
      "     ------- ------------------------------- 18.2/89.2 MB 13.4 MB/s eta 0:00:06\n",
      "     -------- ------------------------------ 18.5/89.2 MB 12.8 MB/s eta 0:00:06\n",
      "     -------- ------------------------------ 18.8/89.2 MB 12.4 MB/s eta 0:00:06\n",
      "     -------- ------------------------------ 19.1/89.2 MB 11.9 MB/s eta 0:00:06\n",
      "     -------- ------------------------------ 19.2/89.2 MB 11.3 MB/s eta 0:00:07\n",
      "     -------- ------------------------------ 19.6/89.2 MB 11.1 MB/s eta 0:00:07\n",
      "     -------- ------------------------------ 20.1/89.2 MB 10.6 MB/s eta 0:00:07\n",
      "     -------- ------------------------------ 20.4/89.2 MB 10.2 MB/s eta 0:00:07\n",
      "     --------- ------------------------------ 20.7/89.2 MB 9.9 MB/s eta 0:00:07\n",
      "     --------- ------------------------------ 21.1/89.2 MB 9.6 MB/s eta 0:00:08\n",
      "     --------- ------------------------------ 21.3/89.2 MB 9.4 MB/s eta 0:00:08\n",
      "     --------- ------------------------------ 21.7/89.2 MB 9.1 MB/s eta 0:00:08\n",
      "     --------- ------------------------------ 22.0/89.2 MB 8.8 MB/s eta 0:00:08\n",
      "     --------- ------------------------------ 22.3/89.2 MB 8.7 MB/s eta 0:00:08\n",
      "     ---------- ----------------------------- 22.6/89.2 MB 8.5 MB/s eta 0:00:08\n",
      "     ---------- ----------------------------- 23.0/89.2 MB 8.3 MB/s eta 0:00:08\n",
      "     ---------- ----------------------------- 23.2/89.2 MB 8.1 MB/s eta 0:00:09\n",
      "     ---------- ----------------------------- 23.6/89.2 MB 7.9 MB/s eta 0:00:09\n",
      "     ---------- ----------------------------- 23.9/89.2 MB 7.7 MB/s eta 0:00:09\n",
      "     ---------- ----------------------------- 24.2/89.2 MB 7.5 MB/s eta 0:00:09\n",
      "     ----------- ---------------------------- 24.5/89.2 MB 7.4 MB/s eta 0:00:09\n",
      "     ----------- ---------------------------- 24.8/89.2 MB 7.1 MB/s eta 0:00:10\n",
      "     ----------- ---------------------------- 25.1/89.2 MB 7.0 MB/s eta 0:00:10\n",
      "     ----------- ---------------------------- 25.5/89.2 MB 6.9 MB/s eta 0:00:10\n",
      "     ----------- ---------------------------- 25.8/89.2 MB 6.8 MB/s eta 0:00:10\n",
      "     ----------- ---------------------------- 26.1/89.2 MB 6.7 MB/s eta 0:00:10\n",
      "     ----------- ---------------------------- 26.4/89.2 MB 6.8 MB/s eta 0:00:10\n",
      "     ----------- ---------------------------- 26.7/89.2 MB 6.8 MB/s eta 0:00:10\n",
      "     ------------ --------------------------- 27.0/89.2 MB 6.8 MB/s eta 0:00:10\n",
      "     ------------ --------------------------- 27.4/89.2 MB 6.8 MB/s eta 0:00:10\n",
      "     ------------ --------------------------- 27.6/89.2 MB 6.7 MB/s eta 0:00:10\n",
      "     ------------ --------------------------- 27.9/89.2 MB 6.7 MB/s eta 0:00:10\n",
      "     ------------ --------------------------- 28.3/89.2 MB 6.8 MB/s eta 0:00:09\n",
      "     ------------ --------------------------- 28.6/89.2 MB 6.8 MB/s eta 0:00:09\n",
      "     ------------ --------------------------- 28.9/89.2 MB 6.8 MB/s eta 0:00:09\n",
      "     ------------- -------------------------- 29.3/89.2 MB 6.8 MB/s eta 0:00:09\n",
      "     ------------- -------------------------- 29.6/89.2 MB 7.0 MB/s eta 0:00:09\n",
      "     ------------- -------------------------- 29.9/89.2 MB 6.9 MB/s eta 0:00:09\n",
      "     ------------- -------------------------- 30.2/89.2 MB 6.8 MB/s eta 0:00:09\n",
      "     ------------- -------------------------- 30.5/89.2 MB 6.7 MB/s eta 0:00:09\n",
      "     ------------- -------------------------- 30.9/89.2 MB 6.9 MB/s eta 0:00:09\n",
      "     ------------- -------------------------- 31.2/89.2 MB 6.8 MB/s eta 0:00:09\n",
      "     -------------- ------------------------- 31.4/89.2 MB 6.8 MB/s eta 0:00:09\n",
      "     -------------- ------------------------- 31.8/89.2 MB 6.9 MB/s eta 0:00:09\n",
      "     -------------- ------------------------- 32.1/89.2 MB 6.8 MB/s eta 0:00:09\n",
      "     -------------- ------------------------- 32.4/89.2 MB 6.8 MB/s eta 0:00:09\n",
      "     -------------- ------------------------- 32.8/89.2 MB 6.9 MB/s eta 0:00:09\n",
      "     -------------- ------------------------- 32.8/89.2 MB 6.7 MB/s eta 0:00:09\n",
      "     -------------- ------------------------- 33.2/89.2 MB 6.6 MB/s eta 0:00:09\n",
      "     --------------- ------------------------ 33.6/89.2 MB 6.8 MB/s eta 0:00:09\n",
      "     --------------- ------------------------ 34.0/89.2 MB 6.8 MB/s eta 0:00:09\n",
      "     --------------- ------------------------ 34.3/89.2 MB 6.8 MB/s eta 0:00:09\n",
      "     --------------- ------------------------ 34.6/89.2 MB 6.8 MB/s eta 0:00:09\n",
      "     --------------- ------------------------ 34.8/89.2 MB 6.7 MB/s eta 0:00:09\n",
      "     --------------- ------------------------ 35.2/89.2 MB 6.8 MB/s eta 0:00:08\n",
      "     --------------- ------------------------ 35.6/89.2 MB 6.8 MB/s eta 0:00:08\n",
      "     ---------------- ----------------------- 35.9/89.2 MB 6.8 MB/s eta 0:00:08\n",
      "     ---------------- ----------------------- 36.2/89.2 MB 6.8 MB/s eta 0:00:08\n",
      "     ---------------- ----------------------- 36.5/89.2 MB 6.8 MB/s eta 0:00:08\n",
      "     ---------------- ----------------------- 36.8/89.2 MB 6.8 MB/s eta 0:00:08\n",
      "     ---------------- ----------------------- 37.2/89.2 MB 6.8 MB/s eta 0:00:08\n",
      "     ---------------- ----------------------- 37.5/89.2 MB 6.8 MB/s eta 0:00:08\n",
      "     ---------------- ----------------------- 37.8/89.2 MB 6.8 MB/s eta 0:00:08\n",
      "     ----------------- ---------------------- 38.1/89.2 MB 6.9 MB/s eta 0:00:08\n",
      "     ----------------- ---------------------- 38.4/89.2 MB 6.8 MB/s eta 0:00:08\n",
      "     ----------------- ---------------------- 38.7/89.2 MB 6.8 MB/s eta 0:00:08\n",
      "     ----------------- ---------------------- 39.0/89.2 MB 6.7 MB/s eta 0:00:08\n",
      "     ----------------- ---------------------- 39.4/89.2 MB 6.8 MB/s eta 0:00:08\n",
      "     ----------------- ---------------------- 39.7/89.2 MB 6.8 MB/s eta 0:00:08\n",
      "     ----------------- ---------------------- 40.0/89.2 MB 6.8 MB/s eta 0:00:08\n",
      "     ------------------ --------------------- 40.3/89.2 MB 6.8 MB/s eta 0:00:08\n",
      "     ------------------ --------------------- 40.6/89.2 MB 6.8 MB/s eta 0:00:08\n",
      "     ------------------ --------------------- 40.8/89.2 MB 6.7 MB/s eta 0:00:08\n",
      "     ------------------ --------------------- 41.1/89.2 MB 6.7 MB/s eta 0:00:08\n",
      "     ------------------ --------------------- 41.5/89.2 MB 6.7 MB/s eta 0:00:08\n",
      "     ------------------ --------------------- 41.9/89.2 MB 6.8 MB/s eta 0:00:07\n",
      "     ------------------ --------------------- 42.2/89.2 MB 6.7 MB/s eta 0:00:07\n",
      "     ------------------- -------------------- 42.6/89.2 MB 6.8 MB/s eta 0:00:07\n",
      "     ------------------- -------------------- 42.8/89.2 MB 6.8 MB/s eta 0:00:07\n",
      "     ------------------- -------------------- 42.9/89.2 MB 6.7 MB/s eta 0:00:07\n",
      "     ------------------- -------------------- 43.1/89.2 MB 6.7 MB/s eta 0:00:07\n",
      "     ------------------- -------------------- 43.4/89.2 MB 6.7 MB/s eta 0:00:07\n",
      "     ------------------- -------------------- 43.8/89.2 MB 6.7 MB/s eta 0:00:07\n",
      "     ------------------- -------------------- 44.4/89.2 MB 6.7 MB/s eta 0:00:07\n",
      "     -------------------- ------------------- 44.8/89.2 MB 6.7 MB/s eta 0:00:07\n",
      "     -------------------- ------------------- 45.0/89.2 MB 6.9 MB/s eta 0:00:07\n",
      "     -------------------- ------------------- 45.4/89.2 MB 6.9 MB/s eta 0:00:07\n",
      "     -------------------- ------------------- 45.7/89.2 MB 6.8 MB/s eta 0:00:07\n",
      "     -------------------- ------------------- 46.0/89.2 MB 6.8 MB/s eta 0:00:07\n",
      "     -------------------- ------------------- 46.4/89.2 MB 6.9 MB/s eta 0:00:07\n",
      "     -------------------- ------------------- 46.7/89.2 MB 6.8 MB/s eta 0:00:07\n",
      "     --------------------- ------------------ 47.0/89.2 MB 6.9 MB/s eta 0:00:07\n",
      "     --------------------- ------------------ 47.3/89.2 MB 6.8 MB/s eta 0:00:07\n",
      "     --------------------- ------------------ 47.6/89.2 MB 6.8 MB/s eta 0:00:07\n",
      "     --------------------- ------------------ 47.9/89.2 MB 6.9 MB/s eta 0:00:06\n",
      "     --------------------- ------------------ 48.2/89.2 MB 6.8 MB/s eta 0:00:07\n",
      "     --------------------- ------------------ 48.5/89.2 MB 6.8 MB/s eta 0:00:06\n",
      "     --------------------- ------------------ 48.9/89.2 MB 6.8 MB/s eta 0:00:06\n",
      "     ---------------------- ----------------- 49.2/89.2 MB 6.8 MB/s eta 0:00:06\n",
      "     ---------------------- ----------------- 49.5/89.2 MB 6.8 MB/s eta 0:00:06\n",
      "     ---------------------- ----------------- 49.8/89.2 MB 6.8 MB/s eta 0:00:06\n",
      "     ---------------------- ----------------- 50.1/89.2 MB 6.8 MB/s eta 0:00:06\n",
      "     ---------------------- ----------------- 50.3/89.2 MB 6.7 MB/s eta 0:00:06\n",
      "     ---------------------- ----------------- 50.3/89.2 MB 6.7 MB/s eta 0:00:06\n",
      "     ---------------------- ----------------- 50.3/89.2 MB 6.7 MB/s eta 0:00:06\n",
      "     ---------------------- ----------------- 50.3/89.2 MB 6.7 MB/s eta 0:00:06\n",
      "     ---------------------- ----------------- 50.3/89.2 MB 6.7 MB/s eta 0:00:06\n",
      "     ---------------------- ----------------- 50.3/89.2 MB 6.7 MB/s eta 0:00:06\n",
      "     ---------------------- ----------------- 50.3/89.2 MB 6.7 MB/s eta 0:00:06\n",
      "     ---------------------- ----------------- 50.3/89.2 MB 6.7 MB/s eta 0:00:06\n",
      "     ---------------------- ----------------- 50.3/89.2 MB 6.7 MB/s eta 0:00:06\n",
      "     ---------------------- ----------------- 50.3/89.2 MB 6.7 MB/s eta 0:00:06\n",
      "     ---------------------- ----------------- 50.3/89.2 MB 6.7 MB/s eta 0:00:06\n",
      "     ---------------------- ----------------- 50.3/89.2 MB 6.7 MB/s eta 0:00:06\n",
      "     ---------------------- ----------------- 50.3/89.2 MB 6.7 MB/s eta 0:00:06\n",
      "     ---------------------- ----------------- 50.3/89.2 MB 6.7 MB/s eta 0:00:06\n",
      "     ---------------------- ----------------- 50.4/89.2 MB 4.7 MB/s eta 0:00:09\n",
      "     ---------------------- ----------------- 50.7/89.2 MB 4.7 MB/s eta 0:00:09\n",
      "     ---------------------- ----------------- 51.3/89.2 MB 4.9 MB/s eta 0:00:08\n",
      "     ----------------------- ---------------- 51.8/89.2 MB 4.9 MB/s eta 0:00:08\n",
      "     ----------------------- ---------------- 52.4/89.2 MB 5.0 MB/s eta 0:00:08\n",
      "     ----------------------- ---------------- 53.1/89.2 MB 5.2 MB/s eta 0:00:07\n",
      "     ------------------------ --------------- 53.7/89.2 MB 5.4 MB/s eta 0:00:07\n",
      "     ------------------------ --------------- 54.5/89.2 MB 5.5 MB/s eta 0:00:07\n",
      "     ------------------------ --------------- 55.3/89.2 MB 5.6 MB/s eta 0:00:07\n",
      "     ------------------------- -------------- 56.1/89.2 MB 5.8 MB/s eta 0:00:06\n",
      "     ------------------------- -------------- 56.9/89.2 MB 6.1 MB/s eta 0:00:06\n",
      "     ------------------------- -------------- 57.8/89.2 MB 6.4 MB/s eta 0:00:05\n",
      "     -------------------------- ------------- 58.6/89.2 MB 6.7 MB/s eta 0:00:05\n",
      "     -------------------------- ------------- 59.0/89.2 MB 6.8 MB/s eta 0:00:05\n",
      "     -------------------------- ------------- 59.4/89.2 MB 6.8 MB/s eta 0:00:05\n",
      "     -------------------------- ------------- 59.7/89.2 MB 6.8 MB/s eta 0:00:05\n",
      "     -------------------------- ------------- 59.9/89.2 MB 6.8 MB/s eta 0:00:05\n",
      "     -------------------------- ------------- 60.2/89.2 MB 6.7 MB/s eta 0:00:05\n",
      "     --------------------------- ------------ 60.5/89.2 MB 6.7 MB/s eta 0:00:05\n",
      "     -------------------------- ------------ 60.9/89.2 MB 12.1 MB/s eta 0:00:03\n",
      "     -------------------------- ------------ 61.3/89.2 MB 11.9 MB/s eta 0:00:03\n",
      "     -------------------------- ------------ 61.5/89.2 MB 11.7 MB/s eta 0:00:03\n",
      "     -------------------------- ------------ 61.7/89.2 MB 11.3 MB/s eta 0:00:03\n",
      "     --------------------------- ----------- 61.8/89.2 MB 10.9 MB/s eta 0:00:03\n",
      "     --------------------------- ----------- 61.9/89.2 MB 10.4 MB/s eta 0:00:03\n",
      "     --------------------------- ------------ 62.0/89.2 MB 9.9 MB/s eta 0:00:03\n",
      "     --------------------------- ------------ 62.3/89.2 MB 9.8 MB/s eta 0:00:03\n",
      "     ---------------------------- ----------- 62.7/89.2 MB 9.5 MB/s eta 0:00:03\n",
      "     ---------------------------- ----------- 63.2/89.2 MB 9.5 MB/s eta 0:00:03\n",
      "     ---------------------------- ----------- 63.7/89.2 MB 9.4 MB/s eta 0:00:03\n",
      "     ---------------------------- ----------- 64.3/89.2 MB 9.5 MB/s eta 0:00:03\n",
      "     ----------------------------- ---------- 64.7/89.2 MB 9.2 MB/s eta 0:00:03\n",
      "     ----------------------------- ---------- 65.0/89.2 MB 9.0 MB/s eta 0:00:03\n",
      "     ----------------------------- ---------- 65.3/89.2 MB 8.7 MB/s eta 0:00:03\n",
      "     ----------------------------- ---------- 65.7/89.2 MB 8.6 MB/s eta 0:00:03\n",
      "     ----------------------------- ---------- 66.0/89.2 MB 8.4 MB/s eta 0:00:03\n",
      "     ----------------------------- ---------- 66.3/89.2 MB 8.2 MB/s eta 0:00:03\n",
      "     ----------------------------- ---------- 66.6/89.2 MB 8.0 MB/s eta 0:00:03\n",
      "     ----------------------------- ---------- 66.8/89.2 MB 7.8 MB/s eta 0:00:03\n",
      "     ------------------------------ --------- 67.1/89.2 MB 7.6 MB/s eta 0:00:03\n",
      "     ------------------------------ --------- 67.4/89.2 MB 7.4 MB/s eta 0:00:03\n",
      "     ------------------------------ --------- 67.7/89.2 MB 7.3 MB/s eta 0:00:03\n",
      "     ------------------------------ --------- 68.1/89.2 MB 7.1 MB/s eta 0:00:03\n",
      "     ------------------------------ --------- 68.5/89.2 MB 7.0 MB/s eta 0:00:03\n",
      "     ------------------------------ --------- 68.9/89.2 MB 6.9 MB/s eta 0:00:03\n",
      "     ------------------------------- -------- 69.2/89.2 MB 6.8 MB/s eta 0:00:03\n",
      "     ------------------------------- -------- 69.5/89.2 MB 6.7 MB/s eta 0:00:03\n",
      "     ------------------------------- -------- 69.8/89.2 MB 6.8 MB/s eta 0:00:03\n",
      "     ------------------------------- -------- 70.1/89.2 MB 6.8 MB/s eta 0:00:03\n",
      "     ------------------------------- -------- 70.4/89.2 MB 6.9 MB/s eta 0:00:03\n",
      "     ------------------------------- -------- 70.8/89.2 MB 6.9 MB/s eta 0:00:03\n",
      "     ------------------------------- -------- 71.1/89.2 MB 6.8 MB/s eta 0:00:03\n",
      "     -------------------------------- ------- 71.4/89.2 MB 6.8 MB/s eta 0:00:03\n",
      "     -------------------------------- ------- 71.7/89.2 MB 6.9 MB/s eta 0:00:03\n",
      "     -------------------------------- ------- 72.0/89.2 MB 7.0 MB/s eta 0:00:03\n",
      "     -------------------------------- ------- 72.4/89.2 MB 7.4 MB/s eta 0:00:03\n",
      "     -------------------------------- ------- 72.7/89.2 MB 7.4 MB/s eta 0:00:03\n",
      "     -------------------------------- ------- 73.0/89.2 MB 7.4 MB/s eta 0:00:03\n",
      "     -------------------------------- ------- 73.3/89.2 MB 7.3 MB/s eta 0:00:03\n",
      "     --------------------------------- ------ 73.6/89.2 MB 7.2 MB/s eta 0:00:03\n",
      "     --------------------------------- ------ 73.9/89.2 MB 7.0 MB/s eta 0:00:03\n",
      "     --------------------------------- ------ 74.3/89.2 MB 7.0 MB/s eta 0:00:03\n",
      "     --------------------------------- ------ 74.6/89.2 MB 6.9 MB/s eta 0:00:03\n",
      "     --------------------------------- ------ 74.9/89.2 MB 6.8 MB/s eta 0:00:03\n",
      "     --------------------------------- ------ 75.2/89.2 MB 6.8 MB/s eta 0:00:03\n",
      "     --------------------------------- ------ 75.5/89.2 MB 6.8 MB/s eta 0:00:03\n",
      "     --------------------------------- ------ 75.5/89.2 MB 6.8 MB/s eta 0:00:03\n",
      "     --------------------------------- ------ 75.5/89.2 MB 6.8 MB/s eta 0:00:03\n",
      "     --------------------------------- ------ 75.7/89.2 MB 6.4 MB/s eta 0:00:03\n",
      "     ---------------------------------- ----- 76.2/89.2 MB 6.4 MB/s eta 0:00:03\n",
      "     ---------------------------------- ----- 76.8/89.2 MB 6.5 MB/s eta 0:00:02\n",
      "     ---------------------------------- ----- 77.3/89.2 MB 6.8 MB/s eta 0:00:02\n",
      "     ---------------------------------- ----- 77.7/89.2 MB 7.0 MB/s eta 0:00:02\n",
      "     ----------------------------------- ---- 78.1/89.2 MB 6.9 MB/s eta 0:00:02\n",
      "     ----------------------------------- ---- 78.4/89.2 MB 7.0 MB/s eta 0:00:02\n",
      "     ----------------------------------- ---- 78.7/89.2 MB 6.9 MB/s eta 0:00:02\n",
      "     ----------------------------------- ---- 79.0/89.2 MB 6.8 MB/s eta 0:00:02\n",
      "     ----------------------------------- ---- 79.3/89.2 MB 6.8 MB/s eta 0:00:02\n",
      "     ----------------------------------- ---- 79.5/89.2 MB 6.7 MB/s eta 0:00:02\n",
      "     ----------------------------------- ---- 79.8/89.2 MB 6.7 MB/s eta 0:00:02\n",
      "     ----------------------------------- ---- 80.2/89.2 MB 6.8 MB/s eta 0:00:02\n",
      "     ------------------------------------ --- 80.5/89.2 MB 6.8 MB/s eta 0:00:02\n",
      "     ------------------------------------ --- 80.7/89.2 MB 6.8 MB/s eta 0:00:02\n",
      "     ------------------------------------ --- 80.7/89.2 MB 6.8 MB/s eta 0:00:02\n",
      "     ------------------------------------ --- 80.7/89.2 MB 6.8 MB/s eta 0:00:02\n",
      "     ------------------------------------ --- 80.7/89.2 MB 6.8 MB/s eta 0:00:02\n",
      "     ------------------------------------ --- 80.7/89.2 MB 6.8 MB/s eta 0:00:02\n",
      "     ------------------------------------ --- 80.7/89.2 MB 6.8 MB/s eta 0:00:02\n",
      "     ------------------------------------ --- 80.8/89.2 MB 5.7 MB/s eta 0:00:02\n",
      "     ------------------------------------ --- 81.2/89.2 MB 5.7 MB/s eta 0:00:02\n",
      "     ------------------------------------ --- 81.7/89.2 MB 5.8 MB/s eta 0:00:02\n",
      "     ------------------------------------ --- 82.3/89.2 MB 6.0 MB/s eta 0:00:02\n",
      "     ------------------------------------- -- 82.9/89.2 MB 6.1 MB/s eta 0:00:02\n",
      "     ------------------------------------- -- 83.5/89.2 MB 6.3 MB/s eta 0:00:01\n",
      "     ------------------------------------- -- 84.1/89.2 MB 6.4 MB/s eta 0:00:01\n",
      "     ------------------------------------- -- 84.5/89.2 MB 6.5 MB/s eta 0:00:01\n",
      "     -------------------------------------- - 84.8/89.2 MB 6.5 MB/s eta 0:00:01\n",
      "     -------------------------------------- - 85.1/89.2 MB 6.5 MB/s eta 0:00:01\n",
      "     -------------------------------------- - 85.6/89.2 MB 6.6 MB/s eta 0:00:01\n",
      "     -------------------------------------- - 86.1/89.2 MB 7.2 MB/s eta 0:00:01\n",
      "     -------------------------------------- - 86.6/89.2 MB 7.2 MB/s eta 0:00:01\n",
      "     -------------------------------------- - 86.9/89.2 MB 7.0 MB/s eta 0:00:01\n",
      "     ---------------------------------------  87.2/89.2 MB 7.0 MB/s eta 0:00:01\n",
      "     ---------------------------------------  87.5/89.2 MB 6.8 MB/s eta 0:00:01\n",
      "     ---------------------------------------  87.8/89.2 MB 6.7 MB/s eta 0:00:01\n",
      "     ---------------------------------------  88.2/89.2 MB 6.8 MB/s eta 0:00:01\n",
      "     ---------------------------------------  88.5/89.2 MB 6.7 MB/s eta 0:00:01\n",
      "     ---------------------------------------  88.8/89.2 MB 6.8 MB/s eta 0:00:01\n",
      "     ---------------------------------------  89.1/89.2 MB 6.8 MB/s eta 0:00:01\n",
      "     ---------------------------------------  89.2/89.2 MB 6.7 MB/s eta 0:00:01\n",
      "     ---------------------------------------  89.2/89.2 MB 6.7 MB/s eta 0:00:01\n",
      "     ---------------------------------------  89.2/89.2 MB 6.7 MB/s eta 0:00:01\n",
      "     ---------------------------------------  89.2/89.2 MB 6.7 MB/s eta 0:00:01\n",
      "     ---------------------------------------- 89.2/89.2 MB 6.1 MB/s eta 0:00:00\n",
      "  Installing build dependencies: started\n",
      "  Installing build dependencies: finished with status 'error'\n"
     ]
    },
    {
     "name": "stderr",
     "output_type": "stream",
     "text": [
      "  error: subprocess-exited-with-error\n",
      "  \n",
      "  × pip subprocess to install build dependencies did not run successfully.\n",
      "  │ exit code: 1\n",
      "  ╰─> [259 lines of output]\n",
      "      Ignoring numpy: markers 'python_version == \"3.6\" and platform_machine != \"aarch64\" and platform_machine != \"arm64\"' don't match your environment\n",
      "      Ignoring numpy: markers 'python_version >= \"3.6\" and sys_platform == \"linux\" and platform_machine == \"aarch64\"' don't match your environment\n",
      "      Ignoring numpy: markers 'python_version >= \"3.6\" and sys_platform == \"darwin\" and platform_machine == \"arm64\"' don't match your environment\n",
      "      Ignoring numpy: markers 'python_version == \"3.7\" and platform_machine != \"aarch64\" and platform_machine != \"arm64\"' don't match your environment\n",
      "      Ignoring numpy: markers 'python_version == \"3.8\" and platform_machine != \"aarch64\" and platform_machine != \"arm64\"' don't match your environment\n",
      "      Collecting setuptools\n",
      "        Using cached setuptools-69.5.1-py3-none-any.whl.metadata (6.2 kB)\n",
      "      Collecting wheel\n",
      "        Using cached wheel-0.43.0-py3-none-any.whl.metadata (2.2 kB)\n",
      "      Collecting scikit-build\n",
      "        Downloading scikit_build-0.17.6-py3-none-any.whl.metadata (14 kB)\n",
      "      Collecting cmake\n",
      "        Downloading cmake-3.29.3-py3-none-win_amd64.whl.metadata (6.1 kB)\n",
      "      Collecting pip\n",
      "        Downloading pip-24.0-py3-none-any.whl.metadata (3.6 kB)\n",
      "      Collecting numpy==1.19.3\n",
      "        Downloading numpy-1.19.3.zip (7.3 MB)\n",
      "           ---------------------------------------- 0.0/7.3 MB ? eta -:--:--\n",
      "           -- ------------------------------------- 0.4/7.3 MB 12.6 MB/s eta 0:00:01\n",
      "           ---- ----------------------------------- 0.8/7.3 MB 10.0 MB/s eta 0:00:01\n",
      "           ------- -------------------------------- 1.4/7.3 MB 9.7 MB/s eta 0:00:01\n",
      "           ---------- ----------------------------- 1.9/7.3 MB 10.0 MB/s eta 0:00:01\n",
      "           ------------- -------------------------- 2.4/7.3 MB 10.3 MB/s eta 0:00:01\n",
      "           --------------- ------------------------ 2.9/7.3 MB 10.2 MB/s eta 0:00:01\n",
      "           ----------------- ---------------------- 3.2/7.3 MB 10.1 MB/s eta 0:00:01\n",
      "           -------------------- ------------------- 3.7/7.3 MB 9.8 MB/s eta 0:00:01\n",
      "           ----------------------- ---------------- 4.2/7.3 MB 10.0 MB/s eta 0:00:01\n",
      "           -------------------------- ------------- 4.8/7.3 MB 10.2 MB/s eta 0:00:01\n",
      "           ------------------------------ --------- 5.5/7.3 MB 10.7 MB/s eta 0:00:01\n",
      "           --------------------------------- ------ 6.1/7.3 MB 10.8 MB/s eta 0:00:01\n",
      "           ------------------------------------- -- 6.8/7.3 MB 11.1 MB/s eta 0:00:01\n",
      "           ---------------------------------------  7.3/7.3 MB 11.4 MB/s eta 0:00:01\n",
      "           ---------------------------------------- 7.3/7.3 MB 10.9 MB/s eta 0:00:00\n",
      "        Installing build dependencies: started\n",
      "        Installing build dependencies: finished with status 'done'\n",
      "        Getting requirements to build wheel: started\n",
      "        Getting requirements to build wheel: finished with status 'done'\n",
      "        Preparing metadata (pyproject.toml): started\n",
      "        Preparing metadata (pyproject.toml): finished with status 'error'\n",
      "        error: subprocess-exited-with-error\n",
      "      \n",
      "        Ã— Preparing metadata (pyproject.toml) did not run successfully.\n",
      "        â”‚ exit code: 1\n",
      "        â•°â”€> [202 lines of output]\n",
      "            setup.py:67: RuntimeWarning: NumPy 1.19.3 may not yet support Python 3.11.\n",
      "              warnings.warn(\n",
      "            Running from numpy source directory.\n",
      "            setup.py:480: UserWarning: Unrecognized setuptools command, proceeding with generating Cython sources and expanding templates\n",
      "              run_build = parse_setuppy_commands()\n",
      "            Cythonizing sources\n",
      "            Processing numpy/random\\_bounded_integers.pxd.in\n",
      "            Processing numpy/random\\bit_generator.pyx\n",
      "            Processing numpy/random\\mtrand.pyx\n",
      "            Processing numpy/random\\_bounded_integers.pyx.in\n",
      "            Processing numpy/random\\_common.pyx\n",
      "            Processing numpy/random\\_generator.pyx\n",
      "            Processing numpy/random\\_mt19937.pyx\n",
      "            Processing numpy/random\\_pcg64.pyx\n",
      "            Processing numpy/random\\_philox.pyx\n",
      "            Processing numpy/random\\_sfc64.pyx\n",
      "            blas_opt_info:\n",
      "            blas_mkl_info:\n",
      "            No module named 'numpy.distutils._msvccompiler' in numpy.distutils; trying from distutils\n",
      "            customize MSVCCompiler\n",
      "              libraries mkl_rt not found in ['c:\\\\Program Files\\\\Python311\\\\lib', 'C:\\\\', 'c:\\\\Program Files\\\\Python311\\\\libs']\n",
      "              NOT AVAILABLE\n",
      "      \n",
      "            blis_info:\n",
      "              libraries blis not found in ['c:\\\\Program Files\\\\Python311\\\\lib', 'C:\\\\', 'c:\\\\Program Files\\\\Python311\\\\libs']\n",
      "              NOT AVAILABLE\n",
      "      \n",
      "            openblas_info:\n",
      "              libraries openblas not found in ['c:\\\\Program Files\\\\Python311\\\\lib', 'C:\\\\', 'c:\\\\Program Files\\\\Python311\\\\libs']\n",
      "            get_default_fcompiler: matching types: '['gnu', 'intelv', 'absoft', 'compaqv', 'intelev', 'gnu95', 'g95', 'intelvem', 'intelem', 'flang']'\n",
      "            customize GnuFCompiler\n",
      "            Could not locate executable g77\n",
      "            Could not locate executable f77\n",
      "            customize IntelVisualFCompiler\n",
      "            Could not locate executable ifort\n",
      "            Could not locate executable ifl\n",
      "            customize AbsoftFCompiler\n",
      "            Could not locate executable f90\n",
      "            customize CompaqVisualFCompiler\n",
      "            Could not locate executable DF\n",
      "            customize IntelItaniumVisualFCompiler\n",
      "            Could not locate executable efl\n",
      "            customize Gnu95FCompiler\n",
      "            Could not locate executable gfortran\n",
      "            Could not locate executable f95\n",
      "            customize G95FCompiler\n",
      "            Could not locate executable g95\n",
      "            customize IntelEM64VisualFCompiler\n",
      "            customize IntelEM64TFCompiler\n",
      "            Could not locate executable efort\n",
      "            Could not locate executable efc\n",
      "            customize PGroupFlangCompiler\n",
      "            Could not locate executable flang\n",
      "            don't know how to compile Fortran code on platform 'nt'\n",
      "              NOT AVAILABLE\n",
      "      \n",
      "            atlas_3_10_blas_threads_info:\n",
      "            Setting PTATLAS=ATLAS\n",
      "              libraries tatlas not found in ['c:\\\\Program Files\\\\Python311\\\\lib', 'C:\\\\', 'c:\\\\Program Files\\\\Python311\\\\libs']\n",
      "              NOT AVAILABLE\n",
      "      \n",
      "            atlas_3_10_blas_info:\n",
      "              libraries satlas not found in ['c:\\\\Program Files\\\\Python311\\\\lib', 'C:\\\\', 'c:\\\\Program Files\\\\Python311\\\\libs']\n",
      "              NOT AVAILABLE\n",
      "      \n",
      "            atlas_blas_threads_info:\n",
      "            Setting PTATLAS=ATLAS\n",
      "              libraries ptf77blas,ptcblas,atlas not found in ['c:\\\\Program Files\\\\Python311\\\\lib', 'C:\\\\', 'c:\\\\Program Files\\\\Python311\\\\libs']\n",
      "              NOT AVAILABLE\n",
      "      \n",
      "            atlas_blas_info:\n",
      "              libraries f77blas,cblas,atlas not found in ['c:\\\\Program Files\\\\Python311\\\\lib', 'C:\\\\', 'c:\\\\Program Files\\\\Python311\\\\libs']\n",
      "              NOT AVAILABLE\n",
      "      \n",
      "            accelerate_info:\n",
      "              NOT AVAILABLE\n",
      "      \n",
      "            C:\\Users\\divan\\AppData\\Local\\Temp\\pip-install-w3aygu9x\\numpy_e5679095447d43a3935c9aedd024e6e2\\numpy\\distutils\\system_info.py:1914: UserWarning:\n",
      "                Optimized (vendor) Blas libraries are not found.\n",
      "                Falls back to netlib Blas library which has worse performance.\n",
      "                A better performance should be easily gained by switching\n",
      "                Blas library.\n",
      "              if self._calc_info(blas):\n",
      "            blas_info:\n",
      "              libraries blas not found in ['c:\\\\Program Files\\\\Python311\\\\lib', 'C:\\\\', 'c:\\\\Program Files\\\\Python311\\\\libs']\n",
      "              NOT AVAILABLE\n",
      "      \n",
      "            C:\\Users\\divan\\AppData\\Local\\Temp\\pip-install-w3aygu9x\\numpy_e5679095447d43a3935c9aedd024e6e2\\numpy\\distutils\\system_info.py:1914: UserWarning:\n",
      "                Blas (http://www.netlib.org/blas/) libraries not found.\n",
      "                Directories to search for the libraries can be specified in the\n",
      "                numpy/distutils/site.cfg file (section [blas]) or by setting\n",
      "                the BLAS environment variable.\n",
      "              if self._calc_info(blas):\n",
      "            blas_src_info:\n",
      "              NOT AVAILABLE\n",
      "      \n",
      "            C:\\Users\\divan\\AppData\\Local\\Temp\\pip-install-w3aygu9x\\numpy_e5679095447d43a3935c9aedd024e6e2\\numpy\\distutils\\system_info.py:1914: UserWarning:\n",
      "                Blas (http://www.netlib.org/blas/) sources not found.\n",
      "                Directories to search for the sources can be specified in the\n",
      "                numpy/distutils/site.cfg file (section [blas_src]) or by setting\n",
      "                the BLAS_SRC environment variable.\n",
      "              if self._calc_info(blas):\n",
      "              NOT AVAILABLE\n",
      "      \n",
      "            non-existing path in 'numpy\\\\distutils': 'site.cfg'\n",
      "            lapack_opt_info:\n",
      "            lapack_mkl_info:\n",
      "              libraries mkl_rt not found in ['c:\\\\Program Files\\\\Python311\\\\lib', 'C:\\\\', 'c:\\\\Program Files\\\\Python311\\\\libs']\n",
      "              NOT AVAILABLE\n",
      "      \n",
      "            openblas_lapack_info:\n",
      "              libraries openblas not found in ['c:\\\\Program Files\\\\Python311\\\\lib', 'C:\\\\', 'c:\\\\Program Files\\\\Python311\\\\libs']\n",
      "              NOT AVAILABLE\n",
      "      \n",
      "            openblas_clapack_info:\n",
      "              libraries openblas,lapack not found in ['c:\\\\Program Files\\\\Python311\\\\lib', 'C:\\\\', 'c:\\\\Program Files\\\\Python311\\\\libs']\n",
      "              NOT AVAILABLE\n",
      "      \n",
      "            flame_info:\n",
      "              libraries flame not found in ['c:\\\\Program Files\\\\Python311\\\\lib', 'C:\\\\', 'c:\\\\Program Files\\\\Python311\\\\libs']\n",
      "              NOT AVAILABLE\n",
      "      \n",
      "            atlas_3_10_threads_info:\n",
      "            Setting PTATLAS=ATLAS\n",
      "              libraries lapack_atlas not found in c:\\Program Files\\Python311\\lib\n",
      "              libraries tatlas,tatlas not found in c:\\Program Files\\Python311\\lib\n",
      "              libraries lapack_atlas not found in C:\\\n",
      "              libraries tatlas,tatlas not found in C:\\\n",
      "              libraries lapack_atlas not found in c:\\Program Files\\Python311\\libs\n",
      "              libraries tatlas,tatlas not found in c:\\Program Files\\Python311\\libs\n",
      "            <class 'numpy.distutils.system_info.atlas_3_10_threads_info'>\n",
      "              NOT AVAILABLE\n",
      "      \n",
      "            atlas_3_10_info:\n",
      "              libraries lapack_atlas not found in c:\\Program Files\\Python311\\lib\n",
      "              libraries satlas,satlas not found in c:\\Program Files\\Python311\\lib\n",
      "              libraries lapack_atlas not found in C:\\\n",
      "              libraries satlas,satlas not found in C:\\\n",
      "              libraries lapack_atlas not found in c:\\Program Files\\Python311\\libs\n",
      "              libraries satlas,satlas not found in c:\\Program Files\\Python311\\libs\n",
      "            <class 'numpy.distutils.system_info.atlas_3_10_info'>\n",
      "              NOT AVAILABLE\n",
      "      \n",
      "            atlas_threads_info:\n",
      "            Setting PTATLAS=ATLAS\n",
      "              libraries lapack_atlas not found in c:\\Program Files\\Python311\\lib\n",
      "              libraries ptf77blas,ptcblas,atlas not found in c:\\Program Files\\Python311\\lib\n",
      "              libraries lapack_atlas not found in C:\\\n",
      "              libraries ptf77blas,ptcblas,atlas not found in C:\\\n",
      "              libraries lapack_atlas not found in c:\\Program Files\\Python311\\libs\n",
      "              libraries ptf77blas,ptcblas,atlas not found in c:\\Program Files\\Python311\\libs\n",
      "            <class 'numpy.distutils.system_info.atlas_threads_info'>\n",
      "              NOT AVAILABLE\n",
      "      \n",
      "            atlas_info:\n",
      "              libraries lapack_atlas not found in c:\\Program Files\\Python311\\lib\n",
      "              libraries f77blas,cblas,atlas not found in c:\\Program Files\\Python311\\lib\n",
      "              libraries lapack_atlas not found in C:\\\n",
      "              libraries f77blas,cblas,atlas not found in C:\\\n",
      "              libraries lapack_atlas not found in c:\\Program Files\\Python311\\libs\n",
      "              libraries f77blas,cblas,atlas not found in c:\\Program Files\\Python311\\libs\n",
      "            <class 'numpy.distutils.system_info.atlas_info'>\n",
      "              NOT AVAILABLE\n",
      "      \n",
      "            lapack_info:\n",
      "              libraries lapack not found in ['c:\\\\Program Files\\\\Python311\\\\lib', 'C:\\\\', 'c:\\\\Program Files\\\\Python311\\\\libs']\n",
      "              NOT AVAILABLE\n",
      "      \n",
      "            C:\\Users\\divan\\AppData\\Local\\Temp\\pip-install-w3aygu9x\\numpy_e5679095447d43a3935c9aedd024e6e2\\numpy\\distutils\\system_info.py:1748: UserWarning:\n",
      "                Lapack (http://www.netlib.org/lapack/) libraries not found.\n",
      "                Directories to search for the libraries can be specified in the\n",
      "                numpy/distutils/site.cfg file (section [lapack]) or by setting\n",
      "                the LAPACK environment variable.\n",
      "              return getattr(self, '_calc_info_{}'.format(name))()\n",
      "            lapack_src_info:\n",
      "              NOT AVAILABLE\n",
      "      \n",
      "            C:\\Users\\divan\\AppData\\Local\\Temp\\pip-install-w3aygu9x\\numpy_e5679095447d43a3935c9aedd024e6e2\\numpy\\distutils\\system_info.py:1748: UserWarning:\n",
      "                Lapack (http://www.netlib.org/lapack/) sources not found.\n",
      "                Directories to search for the sources can be specified in the\n",
      "                numpy/distutils/site.cfg file (section [lapack_src]) or by setting\n",
      "                the LAPACK_SRC environment variable.\n",
      "              return getattr(self, '_calc_info_{}'.format(name))()\n",
      "              NOT AVAILABLE\n",
      "      \n",
      "            numpy_linalg_lapack_lite:\n",
      "              FOUND:\n",
      "                language = c\n",
      "                define_macros = [('HAVE_BLAS_ILP64', None), ('BLAS_SYMBOL_SUFFIX', '64_')]\n",
      "      \n",
      "            C:\\Users\\divan\\AppData\\Local\\Temp\\pip-build-env-4edi7sm_\\overlay\\Lib\\site-packages\\setuptools\\_distutils\\dist.py:275: UserWarning: Unknown distribution option: 'define_macros'\n",
      "              warnings.warn(msg)\n",
      "            running dist_info\n",
      "            running build_src\n",
      "            build_src\n",
      "            building py_modules sources\n",
      "            creating build\n",
      "            creating build\\src.win-amd64-3.11\n",
      "            creating build\\src.win-amd64-3.11\\numpy\n",
      "            creating build\\src.win-amd64-3.11\\numpy\\distutils\n",
      "            building library \"npymath\" sources\n",
      "            error: Microsoft Visual C++ 14.0 is required. Get it with \"Build Tools for Visual Studio\": https://visualstudio.microsoft.com/downloads/\n",
      "            [end of output]\n",
      "      \n",
      "        note: This error originates from a subprocess, and is likely not a problem with pip.\n",
      "      error: metadata-generation-failed\n",
      "      \n",
      "      Ã— Encountered error while generating package metadata.\n",
      "      â•°â”€> See above for output.\n",
      "      \n",
      "      note: This is an issue with the package mentioned above, not pip.\n",
      "      hint: See above for details.\n",
      "      \n",
      "      [notice] A new release of pip is available: 23.3.2 -> 24.0\n",
      "      [notice] To update, run: python.exe -m pip install --upgrade pip\n",
      "      [end of output]\n",
      "  \n",
      "  note: This error originates from a subprocess, and is likely not a problem with pip.\n",
      "error: subprocess-exited-with-error\n",
      "\n",
      "× pip subprocess to install build dependencies did not run successfully.\n",
      "│ exit code: 1\n",
      "╰─> See above for output.\n",
      "\n",
      "note: This error originates from a subprocess, and is likely not a problem with pip.\n",
      "\n",
      "[notice] A new release of pip is available: 23.3.2 -> 24.0\n",
      "[notice] To update, run: python.exe -m pip install --upgrade pip\n"
     ]
    }
   ],
   "source": [
    "# Install requirements\n",
    "!python -m pip install -r requirements.txt"
   ]
  },
  {
   "cell_type": "markdown",
   "metadata": {},
   "source": [
    "## Imports"
   ]
  },
  {
   "cell_type": "code",
   "execution_count": 5,
   "metadata": {},
   "outputs": [],
   "source": [
    "## This cell contains the essential imports you will need – DO NOT CHANGE THE CONTENTS! ##\n",
    "import torch\n",
    "import torch.nn as nn\n",
    "import torch.nn.functional as F\n",
    "import torch.optim as optim\n",
    "import torchvision\n",
    "import torchvision.transforms as transforms\n",
    "import matplotlib.pyplot as plt\n",
    "import numpy as np\n"
   ]
  },
  {
   "cell_type": "code",
   "execution_count": 4,
   "metadata": {},
   "outputs": [
    {
     "name": "stdout",
     "output_type": "stream",
     "text": [
      "Defaulting to user installation because normal site-packages is not writeable\n",
      "Collecting ipywidgets\n",
      "  Downloading ipywidgets-8.1.2-py3-none-any.whl.metadata (2.4 kB)\n",
      "Requirement already satisfied: comm>=0.1.3 in c:\\users\\divan\\appdata\\roaming\\python\\python311\\site-packages (from ipywidgets) (0.2.0)\n",
      "Requirement already satisfied: ipython>=6.1.0 in c:\\users\\divan\\appdata\\roaming\\python\\python311\\site-packages (from ipywidgets) (8.17.2)\n",
      "Requirement already satisfied: traitlets>=4.3.1 in c:\\users\\divan\\appdata\\roaming\\python\\python311\\site-packages (from ipywidgets) (5.13.0)\n",
      "Collecting widgetsnbextension~=4.0.10 (from ipywidgets)\n",
      "  Downloading widgetsnbextension-4.0.10-py3-none-any.whl.metadata (1.6 kB)\n",
      "Collecting jupyterlab-widgets~=3.0.10 (from ipywidgets)\n",
      "  Downloading jupyterlab_widgets-3.0.10-py3-none-any.whl.metadata (4.1 kB)\n",
      "Requirement already satisfied: decorator in c:\\users\\divan\\appdata\\roaming\\python\\python311\\site-packages (from ipython>=6.1.0->ipywidgets) (5.1.1)\n",
      "Requirement already satisfied: jedi>=0.16 in c:\\users\\divan\\appdata\\roaming\\python\\python311\\site-packages (from ipython>=6.1.0->ipywidgets) (0.19.1)\n",
      "Requirement already satisfied: matplotlib-inline in c:\\users\\divan\\appdata\\roaming\\python\\python311\\site-packages (from ipython>=6.1.0->ipywidgets) (0.1.6)\n",
      "Requirement already satisfied: prompt-toolkit!=3.0.37,<3.1.0,>=3.0.30 in c:\\users\\divan\\appdata\\roaming\\python\\python311\\site-packages (from ipython>=6.1.0->ipywidgets) (3.0.40)\n",
      "Requirement already satisfied: pygments>=2.4.0 in c:\\users\\divan\\appdata\\roaming\\python\\python311\\site-packages (from ipython>=6.1.0->ipywidgets) (2.16.1)\n",
      "Requirement already satisfied: stack-data in c:\\users\\divan\\appdata\\roaming\\python\\python311\\site-packages (from ipython>=6.1.0->ipywidgets) (0.6.3)\n",
      "Requirement already satisfied: colorama in c:\\users\\divan\\appdata\\roaming\\python\\python311\\site-packages (from ipython>=6.1.0->ipywidgets) (0.4.6)\n",
      "Requirement already satisfied: parso<0.9.0,>=0.8.3 in c:\\users\\divan\\appdata\\roaming\\python\\python311\\site-packages (from jedi>=0.16->ipython>=6.1.0->ipywidgets) (0.8.3)\n",
      "Requirement already satisfied: wcwidth in c:\\users\\divan\\appdata\\roaming\\python\\python311\\site-packages (from prompt-toolkit!=3.0.37,<3.1.0,>=3.0.30->ipython>=6.1.0->ipywidgets) (0.2.10)\n",
      "Requirement already satisfied: executing>=1.2.0 in c:\\users\\divan\\appdata\\roaming\\python\\python311\\site-packages (from stack-data->ipython>=6.1.0->ipywidgets) (2.0.1)\n",
      "Requirement already satisfied: asttokens>=2.1.0 in c:\\users\\divan\\appdata\\roaming\\python\\python311\\site-packages (from stack-data->ipython>=6.1.0->ipywidgets) (2.4.1)\n",
      "Requirement already satisfied: pure-eval in c:\\users\\divan\\appdata\\roaming\\python\\python311\\site-packages (from stack-data->ipython>=6.1.0->ipywidgets) (0.2.2)\n",
      "Requirement already satisfied: six>=1.12.0 in c:\\users\\divan\\appdata\\roaming\\python\\python311\\site-packages (from asttokens>=2.1.0->stack-data->ipython>=6.1.0->ipywidgets) (1.16.0)\n",
      "Downloading ipywidgets-8.1.2-py3-none-any.whl (139 kB)\n",
      "   ---------------------------------------- 0.0/139.4 kB ? eta -:--:--\n",
      "   ---------------------------------------- 139.4/139.4 kB 8.1 MB/s eta 0:00:00\n",
      "Downloading jupyterlab_widgets-3.0.10-py3-none-any.whl (215 kB)\n",
      "   ---------------------------------------- 0.0/215.0 kB ? eta -:--:--\n",
      "   ---------------------------------------- 215.0/215.0 kB ? eta 0:00:00\n",
      "Downloading widgetsnbextension-4.0.10-py3-none-any.whl (2.3 MB)\n",
      "   ---------------------------------------- 0.0/2.3 MB ? eta -:--:--\n",
      "   ---------------------- ----------------- 1.3/2.3 MB 27.5 MB/s eta 0:00:01\n",
      "   ---------------------------------------- 2.3/2.3 MB 24.3 MB/s eta 0:00:00\n",
      "Installing collected packages: widgetsnbextension, jupyterlab-widgets, ipywidgets\n",
      "Successfully installed ipywidgets-8.1.2 jupyterlab-widgets-3.0.10 widgetsnbextension-4.0.10\n"
     ]
    },
    {
     "name": "stderr",
     "output_type": "stream",
     "text": [
      "\n",
      "[notice] A new release of pip is available: 23.3.2 -> 24.0\n",
      "[notice] To update, run: python.exe -m pip install --upgrade pip\n"
     ]
    }
   ],
   "source": [
    "!pip install ipywidgets"
   ]
  },
  {
   "cell_type": "markdown",
   "metadata": {},
   "source": [
    "## Load the Dataset\n",
    "\n",
    "Specify your transforms as a list if you intend to .\n",
    "The transforms module is already loaded as `transforms`.\n",
    "\n",
    "MNIST is fortunately included in the torchvision module.\n",
    "Then, you can create your dataset using the `MNIST` object from `torchvision.datasets` ([the documentation is available here](https://pytorch.org/vision/stable/datasets.html#mnist)).\n",
    "Make sure to specify `download=True`! \n",
    "\n",
    "Once your dataset is created, you'll also need to define a `DataLoader` from the `torch.utils.data` module for both the train and the test set."
   ]
  },
  {
   "cell_type": "code",
   "execution_count": 6,
   "metadata": {},
   "outputs": [
    {
     "name": "stdout",
     "output_type": "stream",
     "text": [
      "Downloading http://yann.lecun.com/exdb/mnist/train-images-idx3-ubyte.gz\n",
      "Failed to download (trying next):\n",
      "HTTP Error 403: Forbidden\n",
      "\n",
      "Downloading https://ossci-datasets.s3.amazonaws.com/mnist/train-images-idx3-ubyte.gz\n",
      "Downloading https://ossci-datasets.s3.amazonaws.com/mnist/train-images-idx3-ubyte.gz to ./data\\MNIST\\raw\\train-images-idx3-ubyte.gz\n"
     ]
    },
    {
     "name": "stderr",
     "output_type": "stream",
     "text": [
      "100%|██████████| 9912422/9912422 [01:37<00:00, 101241.70it/s]\n"
     ]
    },
    {
     "name": "stdout",
     "output_type": "stream",
     "text": [
      "Extracting ./data\\MNIST\\raw\\train-images-idx3-ubyte.gz to ./data\\MNIST\\raw\n",
      "\n",
      "Downloading http://yann.lecun.com/exdb/mnist/train-labels-idx1-ubyte.gz\n",
      "Failed to download (trying next):\n",
      "HTTP Error 403: Forbidden\n",
      "\n",
      "Downloading https://ossci-datasets.s3.amazonaws.com/mnist/train-labels-idx1-ubyte.gz\n",
      "Downloading https://ossci-datasets.s3.amazonaws.com/mnist/train-labels-idx1-ubyte.gz to ./data\\MNIST\\raw\\train-labels-idx1-ubyte.gz\n"
     ]
    },
    {
     "name": "stderr",
     "output_type": "stream",
     "text": [
      "100%|██████████| 28881/28881 [00:00<00:00, 110169.03it/s]\n"
     ]
    },
    {
     "name": "stdout",
     "output_type": "stream",
     "text": [
      "Extracting ./data\\MNIST\\raw\\train-labels-idx1-ubyte.gz to ./data\\MNIST\\raw\n",
      "\n",
      "Downloading http://yann.lecun.com/exdb/mnist/t10k-images-idx3-ubyte.gz\n",
      "Failed to download (trying next):\n",
      "HTTP Error 403: Forbidden\n",
      "\n",
      "Downloading https://ossci-datasets.s3.amazonaws.com/mnist/t10k-images-idx3-ubyte.gz\n",
      "Downloading https://ossci-datasets.s3.amazonaws.com/mnist/t10k-images-idx3-ubyte.gz to ./data\\MNIST\\raw\\t10k-images-idx3-ubyte.gz\n"
     ]
    },
    {
     "name": "stderr",
     "output_type": "stream",
     "text": [
      "100%|██████████| 1648877/1648877 [00:20<00:00, 82289.30it/s] \n"
     ]
    },
    {
     "name": "stdout",
     "output_type": "stream",
     "text": [
      "Extracting ./data\\MNIST\\raw\\t10k-images-idx3-ubyte.gz to ./data\\MNIST\\raw\n",
      "\n",
      "Downloading http://yann.lecun.com/exdb/mnist/t10k-labels-idx1-ubyte.gz\n",
      "Failed to download (trying next):\n",
      "HTTP Error 403: Forbidden\n",
      "\n",
      "Downloading https://ossci-datasets.s3.amazonaws.com/mnist/t10k-labels-idx1-ubyte.gz\n",
      "Downloading https://ossci-datasets.s3.amazonaws.com/mnist/t10k-labels-idx1-ubyte.gz to ./data\\MNIST\\raw\\t10k-labels-idx1-ubyte.gz\n"
     ]
    },
    {
     "name": "stderr",
     "output_type": "stream",
     "text": [
      "100%|██████████| 4542/4542 [00:00<00:00, 4520770.95it/s]"
     ]
    },
    {
     "name": "stdout",
     "output_type": "stream",
     "text": [
      "Extracting ./data\\MNIST\\raw\\t10k-labels-idx1-ubyte.gz to ./data\\MNIST\\raw\n",
      "\n"
     ]
    },
    {
     "name": "stderr",
     "output_type": "stream",
     "text": [
      "\n"
     ]
    }
   ],
   "source": [
    "# Define batch size for data loaders\n",
    "batch_size=32\n",
    "\n",
    "# Transforms\n",
    "transform = transforms.Compose([transforms.ToTensor(),\n",
    "                                     transforms.Normalize((0.1307,),(0.3081,)),])\n",
    "\n",
    "# Training set and define training dataloader\n",
    "train_dataset=torchvision.datasets.MNIST(root='./data',train=True,download=True,transform=transform)\n",
    "\n",
    "# Test set and define test dataloader\n",
    "test_dataset=torchvision.datasets.MNIST(root='./data',train=False,download=True,transform=transform)\n",
    "\n",
    "# Split the training dataset into training and validation sets\n",
    "# We will use 80% for training and 20% for validation\n",
    "train_size = int(0.8 * len(train_dataset))\n",
    "val_size = len(train_dataset) - train_size\n",
    "train_dataset, validation_dataset = torch.utils.data.random_split(train_dataset, [train_size, val_size])\n",
    "\n",
    "#Train dataloader\n",
    "train_loader=torch.utils.data.DataLoader(train_dataset,batch_size=batch_size,shuffle=True)\n",
    "\n",
    "# Test dataloader\n",
    "test_loader = torch.utils.data.DataLoader(test_dataset, batch_size=batch_size, shuffle=False)\n",
    "\n",
    "# Validation dataloader\n",
    "validation_loader = torch.utils.data.DataLoader(validation_dataset, batch_size=batch_size, shuffle=True)"
   ]
  },
  {
   "cell_type": "markdown",
   "metadata": {},
   "source": [
    "## Justify your preprocessing\n",
    "\n",
    "In your own words, why did you choose the transforms you chose? If you didn't use any preprocessing steps, why not?"
   ]
  },
  {
   "cell_type": "markdown",
   "metadata": {},
   "source": [
    "**DOUBLE CLICK THIS CELL TO MODIFY**"
   ]
  },
  {
   "cell_type": "markdown",
   "metadata": {},
   "source": [
    "## Explore the Dataset\n",
    "Using matplotlib, numpy, and torch, explore the dimensions of your data.\n",
    "\n",
    "You can view images using the `show5` function defined below – it takes a data loader as an argument.\n",
    "Remember that normalized images will look really weird to you! You may want to try changing your transforms to view images.\n",
    "Typically using no transforms other than `toTensor()` works well for viewing – but not as well for training your network.\n",
    "If `show5` doesn't work, go back and check your code for creating your data loaders and your training/test sets."
   ]
  },
  {
   "cell_type": "code",
   "execution_count": 7,
   "metadata": {},
   "outputs": [],
   "source": [
    "## This cell contains a function for showing 5 images from a dataloader – DO NOT CHANGE THE CONTENTS! ##\n",
    "def show5(img_loader):\n",
    "    dataiter = iter(img_loader)\n",
    "    \n",
    "    batch = next(dataiter)\n",
    "    labels = batch[1][0:5]\n",
    "    images = batch[0][0:5]\n",
    "    for i in range(5):\n",
    "        print(int(labels[i].detach()))\n",
    "    \n",
    "        image = images[i].numpy()\n",
    "        plt.imshow(image.T.squeeze().T)\n",
    "        plt.show()"
   ]
  },
  {
   "cell_type": "code",
   "execution_count": 8,
   "metadata": {},
   "outputs": [
    {
     "data": {
      "text/plain": [
       "<torch.utils.data.dataset.Subset at 0x22d440d4f90>"
      ]
     },
     "execution_count": 8,
     "metadata": {},
     "output_type": "execute_result"
    }
   ],
   "source": [
    "train_dataset"
   ]
  },
  {
   "cell_type": "code",
   "execution_count": 9,
   "metadata": {},
   "outputs": [
    {
     "name": "stdout",
     "output_type": "stream",
     "text": [
      "Train DataLoader Normalized\n",
      "3\n"
     ]
    },
    {
     "data": {
      "image/png": "[encoded data removed]",
      "text/plain": [
       "<Figure size 640x480 with 1 Axes>"
      ]
     },
     "metadata": {},
     "output_type": "display_data"
    },
    {
     "name": "stdout",
     "output_type": "stream",
     "text": [
      "7\n"
     ]
    },
    {
     "data": {
      "image/png": "[encoded data removed]",
      "text/plain": [
       "<Figure size 640x480 with 1 Axes>"
      ]
     },
     "metadata": {},
     "output_type": "display_data"
    },
    {
     "name": "stdout",
     "output_type": "stream",
     "text": [
      "2\n"
     ]
    },
    {
     "data": {
      "image/png": "[encoded data removed]",
      "text/plain": [
       "<Figure size 640x480 with 1 Axes>"
      ]
     },
     "metadata": {},
     "output_type": "display_data"
    },
    {
     "name": "stdout",
     "output_type": "stream",
     "text": [
      "5\n"
     ]
    },
    {
     "data": {
      "image/png": "[encoded data removed]",
      "text/plain": [
       "<Figure size 640x480 with 1 Axes>"
      ]
     },
     "metadata": {},
     "output_type": "display_data"
    },
    {
     "name": "stdout",
     "output_type": "stream",
     "text": [
      "4\n"
     ]
    },
    {
     "data": {
      "image/png": "[encoded data removed]",
      "text/plain": [
       "<Figure size 640x480 with 1 Axes>"
      ]
     },
     "metadata": {},
     "output_type": "display_data"
    },
    {
     "name": "stdout",
     "output_type": "stream",
     "text": [
      "Test DataLoader Normalized\n",
      "7\n"
     ]
    },
    {
     "data": {
      "image/png": "[encoded data removed]",
      "text/plain": [
       "<Figure size 640x480 with 1 Axes>"
      ]
     },
     "metadata": {},
     "output_type": "display_data"
    },
    {
     "name": "stdout",
     "output_type": "stream",
     "text": [
      "2\n"
     ]
    },
    {
     "data": {
      "image/png": "[encoded data removed]",
      "text/plain": [
       "<Figure size 640x480 with 1 Axes>"
      ]
     },
     "metadata": {},
     "output_type": "display_data"
    },
    {
     "name": "stdout",
     "output_type": "stream",
     "text": [
      "1\n"
     ]
    },
    {
     "data": {
      "image/png": "[encoded data removed]",
      "text/plain": [
       "<Figure size 640x480 with 1 Axes>"
      ]
     },
     "metadata": {},
     "output_type": "display_data"
    },
    {
     "name": "stdout",
     "output_type": "stream",
     "text": [
      "0\n"
     ]
    },
    {
     "data": {
      "image/png": "[encoded data removed]",
      "text/plain": [
       "<Figure size 640x480 with 1 Axes>"
      ]
     },
     "metadata": {},
     "output_type": "display_data"
    },
    {
     "name": "stdout",
     "output_type": "stream",
     "text": [
      "4\n"
     ]
    },
    {
     "data": {
      "image/png": "[encoded data removed]",
      "text/plain": [
       "<Figure size 640x480 with 1 Axes>"
      ]
     },
     "metadata": {},
     "output_type": "display_data"
    }
   ],
   "source": [
    "# Explore data\n",
    "print('Train DataLoader Normalized')\n",
    "show5(train_loader)\n",
    "print('Test DataLoader Normalized')\n",
    "show5(test_loader)\n",
    "\n"
   ]
  },
  {
   "cell_type": "markdown",
   "metadata": {},
   "source": [
    "## Build your Neural Network\n",
    "Using the layers in `torch.nn` (which has been imported as `nn`) and the `torch.nn.functional` module (imported as `F`), construct a neural network based on the parameters of the dataset.\n",
    "Use any architecture you like. \n",
    "\n",
    "*Note*: If you did not flatten your tensors in your transforms or as part of your preprocessing and you are using only `Linear` layers, make sure to use the `Flatten` layer in your network!"
   ]
  },
  {
   "cell_type": "code",
   "execution_count": 11,
   "metadata": {},
   "outputs": [
    {
     "data": {
      "text/plain": [
       "device(type='cuda')"
      ]
     },
     "execution_count": 11,
     "metadata": {},
     "output_type": "execute_result"
    }
   ],
   "source": [
    "device = torch.device('cuda' if torch.cuda.is_available() else 'cpu')\n",
    "device"
   ]
  },
  {
   "cell_type": "code",
   "execution_count": 12,
   "metadata": {},
   "outputs": [
    {
     "data": {
      "text/plain": [
       "Net(\n",
       "  (Convolutional_layers): Sequential(\n",
       "    (0): Conv2d(1, 8, kernel_size=(3, 3), stride=(1, 1), padding=(1, 1))\n",
       "    (1): Dropout2d(p=0.4, inplace=False)\n",
       "    (2): MaxPool2d(kernel_size=2, stride=2, padding=0, dilation=1, ceil_mode=False)\n",
       "    (3): Conv2d(8, 16, kernel_size=(3, 3), stride=(1, 1), padding=(1, 1))\n",
       "    (4): Dropout2d(p=0.2, inplace=False)\n",
       "  )\n",
       "  (Linear_layers): Sequential(\n",
       "    (0): Linear(in_features=3136, out_features=784, bias=True)\n",
       "    (1): ReLU()\n",
       "    (2): Dropout(p=0.6, inplace=False)\n",
       "    (3): Linear(in_features=784, out_features=196, bias=True)\n",
       "    (4): ReLU()\n",
       "    (5): Dropout(p=0.3, inplace=False)\n",
       "    (6): Linear(in_features=196, out_features=49, bias=True)\n",
       "    (7): ReLU()\n",
       "    (8): Dropout(p=0.15, inplace=False)\n",
       "    (9): Linear(in_features=49, out_features=10, bias=True)\n",
       "  )\n",
       ")"
      ]
     },
     "execution_count": 12,
     "metadata": {},
     "output_type": "execute_result"
    }
   ],
   "source": [
    "## YOUR CODE HERE ##\n",
    "# Class for the neural network\n",
    "class Net(nn.Module):\n",
    "    def __init__(self):\n",
    "        super().__init__()\n",
    "        # Convolutional layers: input channels = 1 (grayscale image), output channels = 8, kernel size = 3x3, padding = 1, stride = 1\n",
    "        # Dropout2d with a dropout rate of 40% to prevent overfitting\n",
    "        # MaxPool2d with a kernel size = 2x2 and stride = 2 to downsample the feature maps\n",
    "        # Second Convolutional layer: input channels = 8, output channels = 16, kernel size = 3x3, padding = 1, stride = 1\n",
    "        # Dropout2d with a dropout rate of 20%\n",
    "        self.Convolutional_layers = nn.Sequential(\n",
    "            nn.Conv2d(in_channels=1, out_channels=8, kernel_size=3, padding=1, stride=1),\n",
    "            nn.Dropout2d(0.4),\n",
    "            nn.MaxPool2d(kernel_size=2, stride=2),\n",
    "            nn.Conv2d(in_channels=8, out_channels=16, kernel_size=3, padding=1, stride=1),\n",
    "            nn.Dropout2d(0.2)\n",
    "        )\n",
    "        \n",
    "        # Linear layers: The output of the convolutional layers will be flattened to a 1D vector and fed into these fully connected layers\n",
    "        self.Linear_layers = nn.Sequential(\n",
    "            nn.Linear(16 * 14 * 14, 784),    # First linear layer: input size = 16 * 14 * 14 (output channels * height * width of the feature maps), output size = 784\n",
    "            nn.ReLU(),            # ReLU activation function to introduce non-linearity\n",
    "            nn.Dropout(0.6),      # Dropout with a dropout rate of 60% to prevent overfitting\n",
    "            nn.Linear(784, 196),  # Second linear layer: input size = 784, output size = 196\n",
    "            nn.ReLU(),            # ReLU activation function\n",
    "            nn.Dropout(0.3),      # Dropout with a dropout rate of 30%\n",
    "            nn.Linear(196, 49),   # Third linear layer: input size = 196, output size = 49\n",
    "            nn.ReLU(),            # ReLU activation function\n",
    "            nn.Dropout(0.15),     # Dropout with a dropout rate of 15%\n",
    "            nn.Linear(49, 10)     # Fourth linear layer (output layer): input size = 49, output size = 10 (number of classes)\n",
    "        )\n",
    "\n",
    "    def forward(self, x):\n",
    "        # Forward pass through the network\n",
    "        x = self.Convolutional_layers(x)  # Pass through the convolutional layers\n",
    "        x = torch.flatten(x, 1)  # Flatten the tensor into a 1D vector (except for the batch dimension)\n",
    "        x = self.Linear_layers(x)  # Pass through the linear layers\n",
    "        return x\n",
    "\n",
    "# Instantiate the net\n",
    "net = Net()\n",
    "net.to(device)  # Move the model to device for computation"
   ]
  },
  {
   "cell_type": "markdown",
   "metadata": {},
   "source": [
    "Specify a loss function and an optimizer, and instantiate the model.\n",
    "\n",
    "If you use a less common loss function, please note why you chose that loss function in a comment."
   ]
  },
  {
   "cell_type": "code",
   "execution_count": 13,
   "metadata": {},
   "outputs": [
    {
     "data": {
      "text/plain": [
       "CrossEntropyLoss()"
      ]
     },
     "execution_count": 13,
     "metadata": {},
     "output_type": "execute_result"
    }
   ],
   "source": [
    "# Optimizer\n",
    "optimizer = optim.Adam(net.parameters(),lr=0.001)\n",
    "\n",
    "# Loss function\n",
    "criterion = nn.CrossEntropyLoss()\n",
    "criterion.to(device)"
   ]
  },
  {
   "cell_type": "markdown",
   "metadata": {},
   "source": [
    "## Running your Neural Network\n",
    "Use whatever method you like to train your neural network, and ensure you record the average loss at each epoch. \n",
    "Don't forget to use `torch.device()` and the `.to()` method for both your model and your data if you are using GPU!\n",
    "\n",
    "If you want to print your loss **during** each epoch, you can use the `enumerate` function and print the loss after a set number of batches. 250 batches works well for most people!"
   ]
  },
  {
   "cell_type": "code",
   "execution_count": 14,
   "metadata": {},
   "outputs": [
    {
     "name": "stdout",
     "output_type": "stream",
     "text": [
      "Epoch: 1/10   Training loss: 0.4644   Validation loss: 0.1488   Validation accuracy: 0.9572  \n",
      "Epoch: 2/10   Training loss: 0.2548   Validation loss: 0.1283   Validation accuracy: 0.9632  \n",
      "Epoch: 3/10   Training loss: 0.2110   Validation loss: 0.1089   Validation accuracy: 0.9712  \n",
      "Epoch: 4/10   Training loss: 0.1910   Validation loss: 0.1015   Validation accuracy: 0.9729  \n",
      "Epoch: 5/10   Training loss: 0.1767   Validation loss: 0.0995   Validation accuracy: 0.9722  \n",
      "Epoch: 6/10   Training loss: 0.1569   Validation loss: 0.0848   Validation accuracy: 0.9761  \n",
      "Epoch: 7/10   Training loss: 0.1488   Validation loss: 0.0805   Validation accuracy: 0.9780  \n",
      "Epoch: 8/10   Training loss: 0.1402   Validation loss: 0.0828   Validation accuracy: 0.9783  \n",
      "Epoch: 9/10   Training loss: 0.1382   Validation loss: 0.0829   Validation accuracy: 0.9781  \n",
      "Epoch: 10/10   Training loss: 0.1316   Validation loss: 0.0807   Validation accuracy: 0.9805  \n"
     ]
    }
   ],
   "source": [
    "## YOUR CODE HERE ##\n",
    "epochs = 10  # The total number of iterations (epochs)\n",
    "\n",
    "train_losses = []         # List to store training losses for each epoch\n",
    "validation_losses = []    # List to store validation losses for each epoch\n",
    "\n",
    "# Loop through each epoch\n",
    "for epoch in range(epochs):\n",
    "    # Prepare the network for training\n",
    "    net.train()\n",
    "    train_loss = 0.0\n",
    "\n",
    "    # Loop through the training data\n",
    "    for idx, (images, labels) in enumerate(train_loader): \n",
    "        # Send the data to the GPU (if available) for faster computation\n",
    "        images = images.to(device)\n",
    "        labels = labels.to(device)\n",
    "\n",
    "        # Training pass\n",
    "        optimizer.zero_grad()   # Clear accumulated gradients from previous iteration\n",
    "\n",
    "        # Forward pass\n",
    "        output = net(images)    # Feed input images through the neural network\n",
    "        loss = criterion(output, labels)  # Calculate the loss (difference between predicted and actual labels)\n",
    "\n",
    "        # Backward pass (gradient computation)\n",
    "        loss.backward()         # Calculate gradients of the loss with respect to network parameters\n",
    "        optimizer.step()        # Update network parameters using the computed gradients\n",
    "\n",
    "        train_loss += loss.item()  # Accumulate the training loss for this iteration\n",
    "    # Prepare the network for evaluation (validation)\n",
    "    net.eval() \n",
    "    validation_loss = 0.0\n",
    "    accuracy = 0\n",
    "\n",
    "    # Turn off gradients when performing validation to save memory and speed up computation\n",
    "    with torch.no_grad():\n",
    "        for images, labels in validation_loader:\n",
    "            images = images.to(device)\n",
    "            labels = labels.to(device)\n",
    "\n",
    "            output = net(images)  # Forward pass for validation data\n",
    "            validation_loss += criterion(output, labels)  # Accumulate the validation loss\n",
    "\n",
    "            top_prob, top_class = output.topk(1, dim=1)  # Get the predicted classes\n",
    "            predictions = top_class == labels.view(*top_class.shape)  # Compare predictions with actual labels\n",
    "            accuracy += torch.mean(predictions.type(torch.FloatTensor))  # Calculate the accuracy\n",
    "\n",
    "    # Store the average training loss and validation loss for this epoch\n",
    "    train_losses.append(train_loss / len(train_loader))\n",
    "    validation_losses.append(validation_loss / len(validation_loader))\n",
    "\n",
    "    # Print the results for this epoch\n",
    "    print(\"Epoch: {}/{}  \".format(epoch + 1, epochs),\n",
    "          \"Training loss: {:.4f}  \".format(train_loss / len(train_loader)),\n",
    "          \"Validation loss: {:.4f}  \".format(validation_loss / len(validation_loader)),\n",
    "          \"Validation accuracy: {:.4f}  \".format(accuracy / len(validation_loader)))"
   ]
  },
  {
   "cell_type": "markdown",
   "metadata": {},
   "source": [
    "Plot the training loss (and validation loss/accuracy, if recorded)."
   ]
  },
  {
   "cell_type": "code",
   "execution_count": 15,
   "metadata": {},
   "outputs": [
    {
     "data": {
      "image/png": "[encoded data removed]",
      "text/plain": [
       "<Figure size 640x480 with 1 Axes>"
      ]
     },
     "metadata": {},
     "output_type": "display_data"
    }
   ],
   "source": [
    "# Convert the training and validation losses to PyTorch tensors and move them to the CPU (if they were on the GPU)\n",
    "train_losses = torch.Tensor(train_losses).cpu()\n",
    "validation_losses = torch.Tensor(validation_losses).cpu()\n",
    "\n",
    "# Plot the training and validation losses\n",
    "plt.plot(train_losses, label='Training loss')       # Plot the training loss curve\n",
    "plt.plot(validation_losses, label='Validation loss')  # Plot the validation loss curve\n",
    "plt.legend() \n",
    "plt.grid();"
   ]
  },
  {
   "cell_type": "markdown",
   "metadata": {},
   "source": [
    "## Testing your model\n",
    "Using the previously created `DataLoader` for the test set, compute the percentage of correct predictions using the highest probability prediction. \n",
    "\n",
    "If your accuracy is over 90%, great work, but see if you can push a bit further! \n",
    "If your accuracy is under 90%, you'll need to make improvements.\n",
    "Go back and check your model architecture, loss function, and optimizer to make sure they're appropriate for an image classification task."
   ]
  },
  {
   "cell_type": "code",
   "execution_count": 16,
   "metadata": {},
   "outputs": [
    {
     "name": "stdout",
     "output_type": "stream",
     "text": [
      "Testing loss: 0.0672   Test accuracy: 0.9826  \n"
     ]
    }
   ],
   "source": [
    "# Set the network in evaluation mode.\n",
    "# This is important because some layers, like BatchNorm and Dropout, behave differently during training and evaluation.\n",
    "net.eval()\n",
    "\n",
    "test_loss = 0.0\n",
    "accuracy = 0\n",
    "\n",
    "# Turning off the gradients when performing validation/testing.\n",
    "# This saves memory and speeds up the computation.\n",
    "# Gradients are not needed for testing, as we are not updating the model's parameters.\n",
    "with torch.no_grad():\n",
    "    for images, labels in test_loader:\n",
    "\n",
    "        images = images.to(device)\n",
    "        labels = labels.to(device)\n",
    "\n",
    "        # Forward pass for test data\n",
    "        output = net(images)\n",
    "\n",
    "        # Compute the test loss\n",
    "        test_loss += criterion(output, labels)\n",
    "\n",
    "        # Calculate the accuracy for this batch\n",
    "        top_prob, top_class = output.topk(1, dim=1)\n",
    "        predictions = top_class == labels.view(*top_class.shape)\n",
    "        accuracy += torch.mean(predictions.type(torch.FloatTensor))\n",
    "\n",
    "# Print the testing loss and accuracy\n",
    "print(\"Testing loss: {:.4f}  \".format(test_loss/len(test_loader)),\n",
    "      \"Test accuracy: {:.4f}  \".format(accuracy/len(test_loader)))"
   ]
  },
  {
   "cell_type": "markdown",
   "metadata": {},
   "source": [
    "## Improving your model\n",
    "\n",
    "Once your model is done training, try tweaking your hyperparameters and training again below to improve your accuracy on the test set!"
   ]
  },
  {
   "cell_type": "code",
   "execution_count": 17,
   "metadata": {},
   "outputs": [
    {
     "data": {
      "text/plain": [
       "ImprovedNet(\n",
       "  (Convolutional_layers): Sequential(\n",
       "    (0): Conv2d(1, 16, kernel_size=(3, 3), stride=(1, 1), padding=(1, 1))\n",
       "    (1): BatchNorm2d(16, eps=1e-05, momentum=0.1, affine=True, track_running_stats=True)\n",
       "    (2): ReLU()\n",
       "    (3): MaxPool2d(kernel_size=2, stride=2, padding=0, dilation=1, ceil_mode=False)\n",
       "    (4): Conv2d(16, 32, kernel_size=(3, 3), stride=(1, 1), padding=(1, 1))\n",
       "    (5): BatchNorm2d(32, eps=1e-05, momentum=0.1, affine=True, track_running_stats=True)\n",
       "    (6): ReLU()\n",
       "    (7): MaxPool2d(kernel_size=2, stride=2, padding=0, dilation=1, ceil_mode=False)\n",
       "  )\n",
       "  (Linear_layers): Sequential(\n",
       "    (0): Linear(in_features=1568, out_features=256, bias=True)\n",
       "    (1): ReLU()\n",
       "    (2): Dropout(p=0.5, inplace=False)\n",
       "    (3): Linear(in_features=256, out_features=128, bias=True)\n",
       "    (4): ReLU()\n",
       "    (5): Dropout(p=0.3, inplace=False)\n",
       "    (6): Linear(in_features=128, out_features=10, bias=True)\n",
       "  )\n",
       ")"
      ]
     },
     "execution_count": 17,
     "metadata": {},
     "output_type": "execute_result"
    }
   ],
   "source": [
    "# Improved model architecture with BatchNorm and Dropout\n",
    "class ImprovedNet(nn.Module):\n",
    "    def __init__(self):\n",
    "        super(ImprovedNet, self).__init__()\n",
    "        self.Convolutional_layers = nn.Sequential(\n",
    "            nn.Conv2d(in_channels=1, out_channels=16, kernel_size=3, padding=1, stride=1),\n",
    "            nn.BatchNorm2d(16),\n",
    "            nn.ReLU(),\n",
    "            nn.MaxPool2d(kernel_size=2, stride=2),\n",
    "            nn.Conv2d(in_channels=16, out_channels=32, kernel_size=3, padding=1, stride=1),\n",
    "            nn.BatchNorm2d(32),\n",
    "            nn.ReLU(),\n",
    "            nn.MaxPool2d(kernel_size=2, stride=2)\n",
    "        )\n",
    "\n",
    "        self.Linear_layers = nn.Sequential(\n",
    "            nn.Linear(32 * 7 * 7, 256),\n",
    "            nn.ReLU(),\n",
    "            nn.Dropout(0.5),\n",
    "            nn.Linear(256, 128),\n",
    "            nn.ReLU(),\n",
    "            nn.Dropout(0.3),\n",
    "            nn.Linear(128, 10)\n",
    "        )\n",
    "\n",
    "    def forward(self, x):\n",
    "        x = self.Convolutional_layers(x)\n",
    "        x = torch.flatten(x, 1)\n",
    "        x = self.Linear_layers(x)\n",
    "        return x\n",
    "\n",
    "# Instantiate the improved net\n",
    "net_tuned = ImprovedNet()\n",
    "net_tuned.to(device)"
   ]
  },
  {
   "cell_type": "code",
   "execution_count": 18,
   "metadata": {},
   "outputs": [],
   "source": [
    "# Loss function and optimizer\n",
    "criterion_tuned = nn.CrossEntropyLoss()\n",
    "optimizer_tuned = optim.Adam(net_tuned.parameters(), lr=0.001, weight_decay=1e-5)\n",
    "criterion_tuned.to(device)\n",
    "# Learning rate scheduler\n",
    "scheduler = optim.lr_scheduler.StepLR(optimizer_tuned, step_size=5, gamma=0.5)"
   ]
  },
  {
   "cell_type": "code",
   "execution_count": 19,
   "metadata": {},
   "outputs": [
    {
     "name": "stdout",
     "output_type": "stream",
     "text": [
      "Epoch: 1/10   Training loss: 0.2472   Validation loss: 0.0692   Validation accuracy: 0.9802  \n",
      "Epoch: 2/10   Training loss: 0.1052   Validation loss: 0.0511   Validation accuracy: 0.9863  \n",
      "Epoch: 3/10   Training loss: 0.0779   Validation loss: 0.0602   Validation accuracy: 0.9845  \n",
      "Epoch: 4/10   Training loss: 0.0679   Validation loss: 0.0488   Validation accuracy: 0.9875  \n",
      "Epoch: 5/10   Training loss: 0.0594   Validation loss: 0.0413   Validation accuracy: 0.9888  \n",
      "Epoch: 6/10   Training loss: 0.0506   Validation loss: 0.0432   Validation accuracy: 0.9887  \n",
      "Epoch: 7/10   Training loss: 0.0445   Validation loss: 0.0472   Validation accuracy: 0.9889  \n",
      "Epoch: 8/10   Training loss: 0.0396   Validation loss: 0.0492   Validation accuracy: 0.9890  \n",
      "Epoch: 9/10   Training loss: 0.0365   Validation loss: 0.0495   Validation accuracy: 0.9884  \n",
      "Epoch: 10/10   Training loss: 0.0328   Validation loss: 0.0403   Validation accuracy: 0.9903  \n"
     ]
    }
   ],
   "source": [
    "epochs = 10 # The total number of iterations\n",
    "\n",
    "train_losses_tuned = []\n",
    "validation_losses_tuned = []\n",
    "\n",
    "for epoch in range(epochs):\n",
    "    # prep net_tuned for training\n",
    "    net_tuned.train()\n",
    "    train_loss = 0.0\n",
    "\n",
    "    for idx, (images, labels) in enumerate(train_loader): \n",
    "\n",
    "        # Send these >>> To GPU\n",
    "        images = images.to(device)\n",
    "        labels = labels.to(device)\n",
    "\n",
    "        # Training pass\n",
    "        optimizer_tuned.zero_grad()\n",
    "\n",
    "        # Forward pass\n",
    "        output = net_tuned(images)\n",
    "        loss = criterion_tuned(output, labels)\n",
    "\n",
    "        #Backward pass\n",
    "        loss.backward()\n",
    "        optimizer_tuned.step()\n",
    "\n",
    "        train_loss += loss.item()\n",
    "        \n",
    "    \n",
    "    # prep net_tuned for evaluation\n",
    "    net_tuned.eval() \n",
    "    validation_loss = 0.0\n",
    "    accuracy = 0\n",
    "\n",
    "    # Turning off the gradients when performing validation.\n",
    "    # If we don't turn it off, we will comprise our net_tunedworks weight entirely\n",
    "    with torch.no_grad():\n",
    "        for images, labels in validation_loader:\n",
    "\n",
    "            images = images.to(device)\n",
    "            labels = labels.to(device)\n",
    "\n",
    "            output = net_tuned(images) \n",
    "            validation_loss += criterion_tuned(output, labels)\n",
    "\n",
    "            top_prob, top_class = output.topk(1, dim=1)\n",
    "            predictions = top_class == labels.view(*top_class.shape)\n",
    "            accuracy += torch.mean(predictions.type(torch.FloatTensor))\n",
    "\n",
    "    train_losses_tuned.append(train_loss/len(train_loader))\n",
    "    validation_losses_tuned.append(validation_loss/len(validation_loader))\n",
    "\n",
    "    print(\"Epoch: {}/{}  \".format(epoch+1, epochs),\n",
    "          \"Training loss: {:.4f}  \".format(train_loss/len(train_loader)),\n",
    "          \"Validation loss: {:.4f}  \".format(validation_loss/len(validation_loader)),\n",
    "          \"Validation accuracy: {:.4f}  \".format(accuracy/len(validation_loader)))\n",
    "    "
   ]
  },
  {
   "cell_type": "code",
   "execution_count": 20,
   "metadata": {},
   "outputs": [
    {
     "data": {
      "image/png": "[encoded data removed]",
      "text/plain": [
       "<Figure size 640x480 with 1 Axes>"
      ]
     },
     "metadata": {},
     "output_type": "display_data"
    }
   ],
   "source": [
    "# Convert the training and validation losses to PyTorch tensors and move them to the CPU (if they were on the GPU)\n",
    "train_losses_tuned = torch.Tensor(train_losses_tuned).cpu()\n",
    "validation_losses_tuned = torch.Tensor(validation_losses_tuned).cpu()\n",
    "\n",
    "# Plot the training and validation losses\n",
    "plt.plot(train_losses_tuned, label='Training loss')       # Plot the training loss curve\n",
    "plt.plot(validation_losses_tuned, label='Validation loss')  # Plot the validation loss curve\n",
    "plt.legend() \n",
    "plt.grid();"
   ]
  },
  {
   "cell_type": "code",
   "execution_count": 21,
   "metadata": {},
   "outputs": [
    {
     "name": "stdout",
     "output_type": "stream",
     "text": [
      "Testing loss: 0.0284   Test accuracy: 0.9912  \n"
     ]
    }
   ],
   "source": [
    "net_tuned.eval() \n",
    "test_loss = 0.0\n",
    "accuracy = 0\n",
    "\n",
    "# Turning off the gradients when performing validation.\n",
    "# If we don't turn it off, we will comprise our networks weight entirely\n",
    "with torch.no_grad():\n",
    "    for images, labels in test_loader:\n",
    "\n",
    "        images = images.to(device)\n",
    "        labels = labels.to(device)\n",
    "\n",
    "        output = net_tuned(images)\n",
    "        test_loss += criterion_tuned(output, labels)\n",
    "\n",
    "        top_prob, top_class = output.topk(1, dim=1)\n",
    "        predictions = top_class == labels.view(*top_class.shape)\n",
    "        accuracy += torch.mean(predictions.type(torch.FloatTensor))\n",
    "\n",
    "print(\"Testing loss: {:.4f}  \".format(test_loss/len(test_loader)),\n",
    "      \"Test accuracy: {:.4f}  \".format(accuracy/len(test_loader)))"
   ]
  },
  {
   "cell_type": "markdown",
   "metadata": {},
   "source": [
    "## Saving your model\n",
    "Using `torch.save`, save your model for future loading."
   ]
  },
  {
   "cell_type": "code",
   "execution_count": 22,
   "metadata": {},
   "outputs": [],
   "source": [
    "torch.save(net.state_dict(),'handwritten_digit_classifier_with_PyTorch.pth')\n",
    "torch.save(net_tuned.state_dict(),'handwritten_digit_classfier_with_PyTorch_tuned.pth')"
   ]
  }
 ],
 "metadata": {
  "kernelspec": {
   "display_name": "Python 3",
   "language": "python",
   "name": "python3"
  },
  "language_info": {
   "codemirror_mode": {
    "name": "ipython",
    "version": 3
   },
   "file_extension": ".py",
   "mimetype": "text/x-python",
   "name": "python",
   "nbconvert_exporter": "python",
   "pygments_lexer": "ipython3",
   "version": "3.11.4"
  }
 },
 "nbformat": 4,
 "nbformat_minor": 4
}
